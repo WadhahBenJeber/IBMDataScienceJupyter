{
 "cells": [
  {
   "cell_type": "markdown",
   "id": "9ce98505-d766-4fbe-a8b4-d63ca827a3cf",
   "metadata": {
    "tags": []
   },
   "source": [
    "# Data Science Tools and Ecosystem"
   ]
  },
  {
   "cell_type": "markdown",
   "id": "7b64c794-b6c1-4670-a91c-f71e61286892",
   "metadata": {
    "tags": []
   },
   "source": [
    "In this notebook, Data Science Tools and Ecosystem are summarized."
   ]
  },
  {
   "cell_type": "markdown",
   "id": "5dd2c18f-cf65-4fba-8e16-2da200fb5f4d",
   "metadata": {},
   "source": [
    "__Objectives:__\n",
    "- List popular languages for Data Science\n",
    "- Some of the commonly used libraries used by Data Scientists\n",
    "- Some of the commonly used libraries used by Data Scientists\n"
   ]
  },
  {
   "cell_type": "markdown",
   "id": "bed8761f-6bc9-4f3f-84a9-4cbef13e6841",
   "metadata": {},
   "source": [
    "Some of the popular languages that Data Scientists use are:\n",
    "1. python\n",
    "2. R\n",
    "3. SQL"
   ]
  },
  {
   "cell_type": "markdown",
   "id": "a335671c-1257-4640-b6a9-299e50fde870",
   "metadata": {},
   "source": [
    "Some of the commonly used libraries used by Data Scientists include:\n",
    "1. Numpy\n",
    "2. Pandas \n",
    "3. Seaborn"
   ]
  },
  {
   "cell_type": "markdown",
   "id": "0303710a-9283-42a9-bc6b-4eac2273326a",
   "metadata": {},
   "source": [
    "| Data Science Tools |\n",
    "|---------------------|\n",
    "| Jupyter Notebook    |\n",
    "| RStudio             |\n",
    "| VS Code with Python |\n"
   ]
  },
  {
   "cell_type": "markdown",
   "id": "76e51e36-ee26-418c-9b84-23ae4799f016",
   "metadata": {
    "tags": []
   },
   "source": [
    "### Below are a few examples of evaluating arithmetic expressions in Python"
   ]
  },
  {
   "cell_type": "code",
   "execution_count": 4,
   "id": "aa776cec-51e1-4108-b40c-b8bdf315e7e7",
   "metadata": {
    "tags": []
   },
   "outputs": [
    {
     "data": {
      "text/plain": [
       "17"
      ]
     },
     "execution_count": 4,
     "metadata": {},
     "output_type": "execute_result"
    }
   ],
   "source": [
    "# This a simple arithmetic expression to mutiply then add integers\n",
    "(3*4)+5"
   ]
  },
  {
   "cell_type": "code",
   "execution_count": 5,
   "id": "ccd9bee1-c03f-444e-8b3c-f7b35d909cab",
   "metadata": {
    "tags": []
   },
   "outputs": [
    {
     "data": {
      "text/plain": [
       "3.3333333333333335"
      ]
     },
     "execution_count": 5,
     "metadata": {},
     "output_type": "execute_result"
    }
   ],
   "source": [
    "# This will convert 200 minutes to hours by diving by 60\n",
    "200 / 60"
   ]
  },
  {
   "cell_type": "markdown",
   "id": "7c9895fe-0a08-4f07-a7ed-33c2562592c6",
   "metadata": {},
   "source": [
    "## Author\n",
    "Wadhah Ben Jabeur"
   ]
  },
  {
   "cell_type": "code",
   "execution_count": null,
   "id": "d35c5642-79cc-4205-bf90-982ce4e39a05",
   "metadata": {},
   "outputs": [],
   "source": []
  }
 ],
 "metadata": {
  "kernelspec": {
   "display_name": "Python",
   "language": "python",
   "name": "conda-env-python-py"
  },
  "language_info": {
   "codemirror_mode": {
    "name": "ipython",
    "version": 3
   },
   "file_extension": ".py",
   "mimetype": "text/x-python",
   "name": "python",
   "nbconvert_exporter": "python",
   "pygments_lexer": "ipython3",
   "version": "3.7.12"
  }
 },
 "nbformat": 4,
 "nbformat_minor": 5
}
